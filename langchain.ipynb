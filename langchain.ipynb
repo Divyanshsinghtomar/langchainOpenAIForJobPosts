{
 "cells": [
  {
   "cell_type": "code",
   "execution_count": null,
   "metadata": {},
   "outputs": [],
   "source": [
    "import os\n",
    "from langchain.llms import OpenAI\n",
    "\n",
    "from langchain.document_loaders import PyPDFLoader\n",
    "os.environ[\"OPENAI_API_KEY\"] = \"Your OpenAI key\"\n",
    "llm = OpenAI()\n",
    "\n",
    "\n"
   ]
  },
  {
   "cell_type": "code",
   "execution_count": null,
   "metadata": {},
   "outputs": [],
   "source": [
    "loader=PyPDFLoader('29062021_Adv_Museum_Assistant_and_Assistant_Conservator.pdf')\n",
    "pages = loader.load_and_split()\n",
    "query = \"Extract the information in this format ---1)Organization name 2) Post Name 3) No. Of vacancies 4) Location 5) Salary 6) Last date of filling form 7) Qualification required for filling the form If there are multiple jobs then put it in same index and give answer,don't give headings just give answer for the point, i wan't it save it in excel file\"\n",
    "\n",
    "from langchain.chains.question_answering import load_qa_chain\n",
    "chain = load_qa_chain(llm, chain_type=\"stuff\")\n",
    "answer=chain.run(input_documents=pages, question=query)\n"
   ]
  },
  {
   "cell_type": "code",
   "execution_count": null,
   "metadata": {},
   "outputs": [],
   "source": [
    "print(answer)"
   ]
  },
  {
   "cell_type": "code",
   "execution_count": null,
   "metadata": {},
   "outputs": [],
   "source": [
    "import csv\n",
    "lines = [line.strip() for line in answer.split('\\n') if line.strip()]\n",
    "# Extract the data from the lines\n",
    "organization = lines[0][3:] # Remove the prefix \"1) \"\n",
    "positions = lines[1][3:] # Remove the prefix \"2) \"\n",
    "num_positions = lines[2][3:]\n",
    "location = lines[3][3:]\n",
    "salaries = lines[4][3:]\n",
    "date_posted = lines[5][3:]\n",
    "qualifications = lines[6][3:]\n"
   ]
  },
  {
   "cell_type": "code",
   "execution_count": null,
   "metadata": {},
   "outputs": [],
   "source": [
    "positions_salaries = [x.strip() for x in salaries.split(';')]\n",
    "# Create a list of dictionaries with the extracted data\n",
    "data = []\n",
    "data.append({\n",
    "'organization': organization,\n",
    "'position': positions.strip(),\n",
    "'salary': salaries.strip(),\n",
    "'location': location,\n",
    "'date_posted': date_posted,\n",
    "'qualifications': qualifications,\n",
    "})\n",
    "# Write the data to a CSV file\n",
    "with open('data.csv', 'w', newline='') as csvfile:\n",
    "    fieldnames = ['organization', 'position', 'salary', 'location','date_posted', 'qualifications']\n",
    "    writer = csv.DictWriter(csvfile, fieldnames=fieldnames)\n",
    "    writer.writeheader()\n",
    "    for row in data:\n",
    "        writer.writerow(row)"
   ]
  }
 ],
 "metadata": {
  "kernelspec": {
   "display_name": "Python 3",
   "language": "python",
   "name": "python3"
  },
  "language_info": {
   "codemirror_mode": {
    "name": "ipython",
    "version": 3
   },
   "file_extension": ".py",
   "mimetype": "text/x-python",
   "name": "python",
   "nbconvert_exporter": "python",
   "pygments_lexer": "ipython3",
   "version": "3.10.11"
  },
  "orig_nbformat": 4
 },
 "nbformat": 4,
 "nbformat_minor": 2
}
